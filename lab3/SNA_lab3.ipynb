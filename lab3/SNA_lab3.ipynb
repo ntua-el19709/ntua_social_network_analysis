{
  "cells": [
    {
      "cell_type": "markdown",
      "id": "1f35580e",
      "metadata": {
        "id": "1f35580e"
      },
      "source": [
        "<html><font size=6><B>3η εργαστηριακή άσκηση</B><BR>\n",
        "    <BR><B>Link prediction - Πρόβλεψη συνδέσμων</B></BR>\n",
        "    </font></html>"
      ]
    },
    {
      "cell_type": "markdown",
      "id": "b30af479",
      "metadata": {
        "id": "b30af479"
      },
      "source": [
        "<html><font size=4><B>1. Κατασκευή γράφου και προεργασία για την πρόβλεψη συνδέσμων</B></font>\n",
        "    <li><B>1(i).</B> Χρησιμοποιήστε το dataset <a href=\"http://konect.cc/networks/dbpedia-similar/\"> Similarities (DBpedia)</a>, για να κατασκευάσετε τον μη κατευθυνόμενο (undirected) γράφο $G$ <a href=\"https://dl.acm.org/doi/10.1145/2487788.2488173\">[1]</a>,<a href=\"https://link.springer.com/chapter/10.1007/978-3-540-76298-0_52\">[2]</a>. Οι κόμβοι του γράφου αναπαριστούν σελίδες της Wikipedia και οι ακμές σχέση ομοιότητας μεταξύ τους. Στην σελίδα <a href=\"http://konect.cc/networks/dbpedia-similar/\"> KONECT (DBpedia)</a> μπορείτε να βρείτε πληροφορίες για τις ιδιότητες του γράφου.</a><BR>\n",
        "        <B><U>Υπόδειξη:</U></B> Μπορείτε να ελέγξετε προγραμματιστικά αν το dataset περιέχει διπλότυπα των ακμών με την ίδια ή αντίστροφη σειρά (π.χ. ακμές (a,b) και (b,a)), και να λάβετε υπ' όψιν σας αυτήν σας την παρατήρηση, όπου τυχόν χρειαστεί, στην ερώτηση 2.<BR></html>"
      ]
    },
    {
      "cell_type": "markdown",
      "id": "4bd79bac",
      "metadata": {
        "id": "4bd79bac"
      },
      "source": [
        " <li><B>1(ii).</B> Εμφανίστε τον αριθμό των κόμβων, τον αριθμό των ακμών, τον μέσο βαθμό των κόμβων και τον αριθμό των συνεκτικών συνιστωσών (connected components) για τον γράφο $G$.</li><BR>"
      ]
    },
    {
      "cell_type": "code",
      "source": [
        "%matplotlib inline\n",
        "\n",
        "import matplotlib\n",
        "import networkx as nx\n",
        "import random\n",
        "import matplotlib.pyplot as plt\n",
        "import numpy as np\n",
        "import scipy as sp\n",
        "import pandas as pd"
      ],
      "metadata": {
        "id": "c4SbzJaFdSHb",
        "colab": {
          "base_uri": "https://localhost:8080/"
        },
        "outputId": "090445a2-f670-4054-b42f-5fc4c74f16f9"
      },
      "id": "c4SbzJaFdSHb",
      "execution_count": 1,
      "outputs": [
        {
          "output_type": "stream",
          "name": "stderr",
          "text": [
            "/usr/local/lib/python3.8/dist-packages/scipy/__init__.py:146: UserWarning: A NumPy version >=1.16.5 and <1.23.0 is required for this version of SciPy (detected version 1.24.1\n",
            "  warnings.warn(f\"A NumPy version >={np_minversion} and <{np_maxversion}\"\n"
          ]
        }
      ]
    },
    {
      "cell_type": "code",
      "execution_count": 2,
      "id": "9277a4e2",
      "metadata": {
        "colab": {
          "base_uri": "https://localhost:8080/"
        },
        "id": "9277a4e2",
        "outputId": "a1a59626-3d4d-4c33-8d34-6b3788da7084"
      },
      "outputs": [
        {
          "output_type": "stream",
          "name": "stdout",
          "text": [
            "Initial Graph:\n",
            "Number of nodes: 430\n",
            "Number of edges: 565\n",
            "Average node degree: 2.627906976744186\n",
            "Number of connected components: 95\n",
            "\n",
            "There is/are 0 double edge(s)\n",
            "There is/are 1 self loop(s)\n"
          ]
        }
      ],
      "source": [
        "#build the graph\n",
        "dbpediafile=open(\"out.dbpedia-similar\",'r')\n",
        "dbgraph=nx.Graph()\n",
        "edgedouble=0\n",
        "selfloop=0\n",
        "edgelist=[]\n",
        "for row in dbpediafile.readlines():\n",
        "    x=row.split(\" \")\n",
        "    if len(x)!=2:\n",
        "      continue\n",
        "    u,v=int(x[0]),int(x[1])\n",
        "    if(u>v):u,v=v,u\n",
        "    if(u==v):selfloop+=1\n",
        "    if(dbgraph.has_edge(u, v)):edgedouble+=1\n",
        "    dbgraph.add_edge(u,v)\n",
        "    edgelist.append((u,v))\n",
        "    \n",
        "initial_node_count= dbgraph.number_of_nodes()\n",
        "initial_edge_count= dbgraph.number_of_edges()\n",
        "degrees=[]\n",
        "for i in dbgraph.nodes():\n",
        "  degrees.append(dbgraph.degree(i))\n",
        "initial_degree_average=np.mean(degrees)\n",
        "initial_connected_components= nx.number_connected_components(dbgraph)\n",
        "\n",
        "print(\"Initial Graph:\")\n",
        "print(\"Number of nodes:\",initial_node_count)\n",
        "print(\"Number of edges:\",initial_edge_count)\n",
        "print(\"Average node degree:\",initial_degree_average)\n",
        "print(\"Number of connected components:\",initial_connected_components)\n",
        "print(\"\\nThere is/are\",edgedouble,\"double edge(s)\")\n",
        "print(\"There is/are\",selfloop,\"self loop(s)\")\n"
      ]
    },
    {
      "cell_type": "markdown",
      "id": "bf03f6b9",
      "metadata": {
        "id": "bf03f6b9"
      },
      "source": [
        "<li><B>1(iii). </B>Υπολογίστε το σύνολο των ασύνδετων ζευγών κόμβων (unconnected pairs) στον γράφο χρησιμοποιώντας τον πίνακα γειτνίασης (adjacency matrix). Δώστε επίσης τον αριθμό τους. Λάβετε υπ' όψιν σας ότι ο γράφος είναι μη κατευθυνόμενος και δεν χρειάζεται να διατρέξετε ολόκληρο τον πίνακα γειτνίασης.</li><BR>"
      ]
    },
    {
      "cell_type": "code",
      "source": [
        "nopairs=int(initial_node_count*(initial_node_count-1)/2)\n",
        "nouncopairs=nopairs-initial_edge_count+edgedouble+selfloop\n",
        "\n",
        "adjmat=nx.to_numpy_matrix(dbgraph)\n",
        "adjmat=adjmat.tolist()\n",
        "uncopairs=[]\n",
        "for i in range(initial_node_count):\n",
        "  for j in range(i+1,initial_node_count):\n",
        "    if adjmat[i][j]==0:\n",
        "      uncopairs.append((i+1,j+1))\n",
        "\n",
        "print(\"Number of unconnected pairs (using Adjacency Matrix):\",len(uncopairs))\n",
        "print(\"Number of unconnected pairs (using graph metadata):\",nouncopairs)"
      ],
      "metadata": {
        "colab": {
          "base_uri": "https://localhost:8080/"
        },
        "id": "AIYkoT4mozRY",
        "outputId": "9a8b205a-1827-4fa8-d412-a634676b42b5"
      },
      "id": "AIYkoT4mozRY",
      "execution_count": 3,
      "outputs": [
        {
          "output_type": "stream",
          "name": "stdout",
          "text": [
            "Number of unconnected pairs (using Adjacency Matrix): 91671\n",
            "Number of unconnected pairs (using graph metadata): 91671\n"
          ]
        }
      ]
    },
    {
      "cell_type": "markdown",
      "source": [
        "Από τα παραπάνω προκύπτει ότι έχουμε 91671 ζευγάρια τα οποία δεν είναι ενωμένα."
      ],
      "metadata": {
        "id": "Ynv6K1mo1L2w"
      },
      "id": "Ynv6K1mo1L2w"
    },
    {
      "cell_type": "markdown",
      "id": "154c2a8d",
      "metadata": {
        "id": "154c2a8d"
      },
      "source": [
        "<li><B>1(iv).</B> Υπολογίστε το σύνολο των ακμών (removable edges) που μπορούν να αφαιρεθούν από τον γράφο χωρίς να υπάρχει κατάτμηση (splitting) του γράφου (δηλ. ο αριθμός των συνεκτικών συνιστωσών θα πρέπει να παραμένει αμετάβλητος). Υπόδειξη: Ελέγχετε επίσης ότι με αφαίρεση ακμής δεν μειώνεται ο αριθμός των κόμβων (εφόσον δεν υπάρχει ξεχωριστό αρχείο μόνο με κόμβους στο dataset). Δώστε επίσης τον αριθμό των ακμών (removable edges) που μπορούν να αφαιρεθούν υπό αυτές τις προϋποθέσεις.</li><BR>"
      ]
    },
    {
      "cell_type": "code",
      "execution_count": 4,
      "id": "b39c2241",
      "metadata": {
        "colab": {
          "base_uri": "https://localhost:8080/"
        },
        "id": "b39c2241",
        "outputId": "76becf90-7a11-4d4d-a1c2-bba09aa8366d"
      },
      "outputs": [
        {
          "output_type": "stream",
          "name": "stdout",
          "text": [
            "Number of removable edges (checking each edge): 229\n",
            "Number of removable edges (using graph metadata): 230\n"
          ]
        }
      ],
      "source": [
        "remoedge=[]\n",
        "dbcopy=dbgraph.copy()\n",
        "for edge in edgelist:\n",
        "  dbcopy.remove_edge(edge[0],edge[1])\n",
        "  if(dbcopy.number_of_nodes()==initial_node_count and nx.number_connected_components(dbcopy)==initial_connected_components and edge[0]!=edge[1]):\n",
        "    remoedge.append(edge)\n",
        "  else:\n",
        "    #if(edge[0]==edge[1]):continue\n",
        "    dbcopy.add_edge(edge[0],edge[1])\n",
        "\n",
        "noremoedge=initial_edge_count-(initial_node_count-initial_connected_components)\n",
        "\n",
        "print(\"Number of removable edges (checking each edge):\",len(remoedge))\n",
        "print(\"Number of removable edges (using graph metadata):\",noremoedge)"
      ]
    },
    {
      "cell_type": "markdown",
      "source": [
        "Η διαφορά είναι στην ακμή η οποία επιστρέφει στον κόμβο από τον οποίο ξεκινά (selfloop)."
      ],
      "metadata": {
        "id": "Al5PDWJh1cdt"
      },
      "id": "Al5PDWJh1cdt"
    },
    {
      "cell_type": "markdown",
      "id": "eb03d745",
      "metadata": {
        "id": "eb03d745"
      },
      "source": [
        "<li><B>1(vα).</B> Κατασκευάστε dataframe που συνενώνει τις απαντήσεις των ερωτημάτων 1(iii) και 1(iv) (unconnected+removables). Χρησιμοποιήστε την μεταβλητή $link$ που θα παίρνει τιμή 1 ή 0 ανάλογα με την ύπαρξη συνδέσμου ή μη. To dataframe αυτό συγκεντρώνει τα θετικά και αρνητικά δείγματα για την πρόβλεψη των μελλοντικών συνδέσεων (link: target variable). <BR>\n",
        "    <li><B>1(vβ).</B> Κατασκευάστε τον γράφο $G'$ που προκύπτει από την αφαίρεση από τον γράφο $G$ των ακμών του ερωτήματος 1(iv). <BR>\n",
        "    <li><B>1(vγ).</B> Εμφανίστε τον αριθμό των κόμβων, τον αριθμό των ακμών, τον μέσο βαθμό των κόμβων και τον αριθμό των συνεκτικών συνιστωσών (connected components) για τον γράφο $G'$.</li><BR>"
      ]
    },
    {
      "cell_type": "code",
      "execution_count": 5,
      "id": "cb033fc0",
      "metadata": {
        "colab": {
          "base_uri": "https://localhost:8080/",
          "height": 510
        },
        "id": "cb033fc0",
        "outputId": "1f7e5d1b-46c3-4e57-9d9c-fe69bda24b2a"
      },
      "outputs": [
        {
          "output_type": "stream",
          "name": "stdout",
          "text": [
            "Reduced Graph:\n",
            "Number of nodes: 430\n",
            "Number of edges: 336\n",
            "Average node degree: 1.5627906976744186\n",
            "Number of connected components: 95\n"
          ]
        },
        {
          "output_type": "execute_result",
          "data": {
            "text/plain": [
              "             edge  link\n",
              "0          (1, 2)     1\n",
              "1          (1, 3)     1\n",
              "2          (1, 4)     1\n",
              "3          (1, 6)     0\n",
              "4          (1, 7)     0\n",
              "...           ...   ...\n",
              "91895  (426, 430)     0\n",
              "91896  (427, 428)     0\n",
              "91897  (427, 429)     0\n",
              "91898  (427, 430)     0\n",
              "91899  (429, 430)     0\n",
              "\n",
              "[91900 rows x 2 columns]"
            ],
            "text/html": [
              "\n",
              "  <div id=\"df-30ddf422-8626-4725-9715-79b9579cd177\">\n",
              "    <div class=\"colab-df-container\">\n",
              "      <div>\n",
              "<style scoped>\n",
              "    .dataframe tbody tr th:only-of-type {\n",
              "        vertical-align: middle;\n",
              "    }\n",
              "\n",
              "    .dataframe tbody tr th {\n",
              "        vertical-align: top;\n",
              "    }\n",
              "\n",
              "    .dataframe thead th {\n",
              "        text-align: right;\n",
              "    }\n",
              "</style>\n",
              "<table border=\"1\" class=\"dataframe\">\n",
              "  <thead>\n",
              "    <tr style=\"text-align: right;\">\n",
              "      <th></th>\n",
              "      <th>edge</th>\n",
              "      <th>link</th>\n",
              "    </tr>\n",
              "  </thead>\n",
              "  <tbody>\n",
              "    <tr>\n",
              "      <th>0</th>\n",
              "      <td>(1, 2)</td>\n",
              "      <td>1</td>\n",
              "    </tr>\n",
              "    <tr>\n",
              "      <th>1</th>\n",
              "      <td>(1, 3)</td>\n",
              "      <td>1</td>\n",
              "    </tr>\n",
              "    <tr>\n",
              "      <th>2</th>\n",
              "      <td>(1, 4)</td>\n",
              "      <td>1</td>\n",
              "    </tr>\n",
              "    <tr>\n",
              "      <th>3</th>\n",
              "      <td>(1, 6)</td>\n",
              "      <td>0</td>\n",
              "    </tr>\n",
              "    <tr>\n",
              "      <th>4</th>\n",
              "      <td>(1, 7)</td>\n",
              "      <td>0</td>\n",
              "    </tr>\n",
              "    <tr>\n",
              "      <th>...</th>\n",
              "      <td>...</td>\n",
              "      <td>...</td>\n",
              "    </tr>\n",
              "    <tr>\n",
              "      <th>91895</th>\n",
              "      <td>(426, 430)</td>\n",
              "      <td>0</td>\n",
              "    </tr>\n",
              "    <tr>\n",
              "      <th>91896</th>\n",
              "      <td>(427, 428)</td>\n",
              "      <td>0</td>\n",
              "    </tr>\n",
              "    <tr>\n",
              "      <th>91897</th>\n",
              "      <td>(427, 429)</td>\n",
              "      <td>0</td>\n",
              "    </tr>\n",
              "    <tr>\n",
              "      <th>91898</th>\n",
              "      <td>(427, 430)</td>\n",
              "      <td>0</td>\n",
              "    </tr>\n",
              "    <tr>\n",
              "      <th>91899</th>\n",
              "      <td>(429, 430)</td>\n",
              "      <td>0</td>\n",
              "    </tr>\n",
              "  </tbody>\n",
              "</table>\n",
              "<p>91900 rows × 2 columns</p>\n",
              "</div>\n",
              "      <button class=\"colab-df-convert\" onclick=\"convertToInteractive('df-30ddf422-8626-4725-9715-79b9579cd177')\"\n",
              "              title=\"Convert this dataframe to an interactive table.\"\n",
              "              style=\"display:none;\">\n",
              "        \n",
              "  <svg xmlns=\"http://www.w3.org/2000/svg\" height=\"24px\"viewBox=\"0 0 24 24\"\n",
              "       width=\"24px\">\n",
              "    <path d=\"M0 0h24v24H0V0z\" fill=\"none\"/>\n",
              "    <path d=\"M18.56 5.44l.94 2.06.94-2.06 2.06-.94-2.06-.94-.94-2.06-.94 2.06-2.06.94zm-11 1L8.5 8.5l.94-2.06 2.06-.94-2.06-.94L8.5 2.5l-.94 2.06-2.06.94zm10 10l.94 2.06.94-2.06 2.06-.94-2.06-.94-.94-2.06-.94 2.06-2.06.94z\"/><path d=\"M17.41 7.96l-1.37-1.37c-.4-.4-.92-.59-1.43-.59-.52 0-1.04.2-1.43.59L10.3 9.45l-7.72 7.72c-.78.78-.78 2.05 0 2.83L4 21.41c.39.39.9.59 1.41.59.51 0 1.02-.2 1.41-.59l7.78-7.78 2.81-2.81c.8-.78.8-2.07 0-2.86zM5.41 20L4 18.59l7.72-7.72 1.47 1.35L5.41 20z\"/>\n",
              "  </svg>\n",
              "      </button>\n",
              "      \n",
              "  <style>\n",
              "    .colab-df-container {\n",
              "      display:flex;\n",
              "      flex-wrap:wrap;\n",
              "      gap: 12px;\n",
              "    }\n",
              "\n",
              "    .colab-df-convert {\n",
              "      background-color: #E8F0FE;\n",
              "      border: none;\n",
              "      border-radius: 50%;\n",
              "      cursor: pointer;\n",
              "      display: none;\n",
              "      fill: #1967D2;\n",
              "      height: 32px;\n",
              "      padding: 0 0 0 0;\n",
              "      width: 32px;\n",
              "    }\n",
              "\n",
              "    .colab-df-convert:hover {\n",
              "      background-color: #E2EBFA;\n",
              "      box-shadow: 0px 1px 2px rgba(60, 64, 67, 0.3), 0px 1px 3px 1px rgba(60, 64, 67, 0.15);\n",
              "      fill: #174EA6;\n",
              "    }\n",
              "\n",
              "    [theme=dark] .colab-df-convert {\n",
              "      background-color: #3B4455;\n",
              "      fill: #D2E3FC;\n",
              "    }\n",
              "\n",
              "    [theme=dark] .colab-df-convert:hover {\n",
              "      background-color: #434B5C;\n",
              "      box-shadow: 0px 1px 3px 1px rgba(0, 0, 0, 0.15);\n",
              "      filter: drop-shadow(0px 1px 2px rgba(0, 0, 0, 0.3));\n",
              "      fill: #FFFFFF;\n",
              "    }\n",
              "  </style>\n",
              "\n",
              "      <script>\n",
              "        const buttonEl =\n",
              "          document.querySelector('#df-30ddf422-8626-4725-9715-79b9579cd177 button.colab-df-convert');\n",
              "        buttonEl.style.display =\n",
              "          google.colab.kernel.accessAllowed ? 'block' : 'none';\n",
              "\n",
              "        async function convertToInteractive(key) {\n",
              "          const element = document.querySelector('#df-30ddf422-8626-4725-9715-79b9579cd177');\n",
              "          const dataTable =\n",
              "            await google.colab.kernel.invokeFunction('convertToInteractive',\n",
              "                                                     [key], {});\n",
              "          if (!dataTable) return;\n",
              "\n",
              "          const docLinkHtml = 'Like what you see? Visit the ' +\n",
              "            '<a target=\"_blank\" href=https://colab.research.google.com/notebooks/data_table.ipynb>data table notebook</a>'\n",
              "            + ' to learn more about interactive tables.';\n",
              "          element.innerHTML = '';\n",
              "          dataTable['output_type'] = 'display_data';\n",
              "          await google.colab.output.renderOutput(dataTable, element);\n",
              "          const docLink = document.createElement('div');\n",
              "          docLink.innerHTML = docLinkHtml;\n",
              "          element.appendChild(docLink);\n",
              "        }\n",
              "      </script>\n",
              "    </div>\n",
              "  </div>\n",
              "  "
            ]
          },
          "metadata": {},
          "execution_count": 5
        }
      ],
      "source": [
        "#dataframe of removable edges (they will function as positive samples)\n",
        "#...['link'] = 1  #uncomment and complete\n",
        "\n",
        "#dataframe of unconnected node pairs (they will function as negative samples)\n",
        "#...['link'] = 0 # uncomment and complete\n",
        "\n",
        "#merge in one dataframe\n",
        "\n",
        "#build graph G'=G_reduced\n",
        "dfedge=uncopairs+remoedge\n",
        "dfedge.sort()\n",
        "link=[]\n",
        "for edge in dfedge:\n",
        "  if edge in remoedge:link.append(1)\n",
        "  else:link.append(0)\n",
        "\n",
        "dbreduced=dbcopy.copy() #already built from before\n",
        "\n",
        "df = pd.DataFrame({'edge': dfedge, 'link': link})\n",
        "\n",
        "reduced_node_count= dbreduced.number_of_nodes()\n",
        "reduced_edge_count= dbreduced.number_of_edges()\n",
        "degrees=[]\n",
        "for i in dbreduced.nodes():\n",
        "  degrees.append(dbreduced.degree(i))\n",
        "reduced_degree_average=np.mean(degrees)\n",
        "reduced_connected_components= nx.number_connected_components(dbreduced)\n",
        "\n",
        "print(\"Reduced Graph:\")\n",
        "print(\"Number of nodes:\",reduced_node_count)\n",
        "print(\"Number of edges:\",reduced_edge_count)\n",
        "print(\"Average node degree:\",reduced_degree_average)\n",
        "print(\"Number of connected components:\",reduced_connected_components)\n",
        "\n",
        "df"
      ]
    },
    {
      "cell_type": "markdown",
      "source": [
        "Όπως ήταν αναμενόμενο οι κόμβοι και οι συνδετικές συνιστώσες έμειναν σταθερές, αλλά οι ακμές και ο μέσος βαθμός κόμβων μειώθηκαν."
      ],
      "metadata": {
        "id": "SeAimoJw1t_A"
      },
      "id": "SeAimoJw1t_A"
    },
    {
      "cell_type": "markdown",
      "id": "184eae57",
      "metadata": {
        "id": "184eae57"
      },
      "source": [
        "<html><font size=4><B>2. Εισαγωγή σε similarity-based μετρικές για Link prediction</B></font><BR><BR>\n",
        "     <li> Η μετρική <B>Jaccard Coefficient (JC)</B> των κόμβων ${u}$ και ${v}$ ορίζεται ως $\\frac{|\\Gamma(u) \\cap \\Gamma(v)|}{|\\Gamma(u) \\cup \\Gamma(v)|}$, όπου ${\\Gamma(u)}$ είναι το σύνολο των γειτονικών κόμβων του κόμβου ${u}$.  <B></B>\n",
        "        <li> Η μετρική <B>Preferential Αttachment (PA)</B> των κόμβων $u$ και $v$ ορίζεται ως $|\\Gamma(u)| |\\Gamma(v)|$, όπου $\\Gamma(u)$ είναι το σύνολο των γειτονικών κόμβων του $u$.</li>\n",
        "        <li> Η μετρική <B>Resource Allocation (RA)</B> των κόμβων $u$ και $v$ ορίζεται ως $\\sum_{w \\in \\Gamma(u) \\cap \\Gamma(v)} \\frac{1}{|\\Gamma(w)|}$, όπου $\\Gamma(u)$ είναι το σύνολο των γειτονικών κόμβων του $u$.</li><BR><BR>\n",
        "    <li><B>2(i).</B> Για τον γράφο $G'$, που κατασκευάσατε στο ερώτημα 1(vβ), υπολογίστε την μετρική <B>Jaccard Coefficient (JC)</B>.  <u><a href=\"https://networkx.org/documentation/stable/reference/algorithms/link_prediction.html?highlight=link%20prediction\">Χρησιμοποιήστε την υλοποιημένη συνάρτηση του λογισμικού NetworkX.<a></u> <BR><BR>\n",
        "    <li><B>2(ii). </B>Δώστε τις $k$ ακμές με την υψηλότερη τιμή μετρικής $JC$, όπου $k$ ο $Α.Μ.$ σας $mod$ $10$. Για $Α.Μ.$ λήγοντα σε $0$ δώστε τις $10$ ακμές με την υψηλότερη τιμή μετρικής.\n",
        "        (Για την σύγκριση μεταξύ διαφορετικών μετρικών προτιμάται η εύρεση των $k$ επικρατέστερων συνδέσμων, αφού οι μετρικές επιστρέφουν διαφορετικό εύρος τιμών.)</li><BR>\n",
        "    <li><B>2(iii). </B>Προσδιορίστε για την μέτρηση της απόδοσης της μετρικής $JC$ τα μεγέθη $Precision$, $Recall$ και $Accuracy$ και αναπαραστήστε τα γραφικά για τιμές κατωφλίου: $0.1$, $0.15$, $0.25$, $0.5$, $1.0$.  <BR><BR>\n",
        "    $Precision=\\frac{TP}{TP+FP}$, όπου $TP$: αληθώς θετικά αποτελέσματα, $FP$: ψευδώς θετικά αποτελέσματα <BR>\n",
        "    $Recall=\\frac{TP}{TP+FN}$, όπου $TP$: αληθώς θετικά αποτελέσματα, $FN$: ψευδώς αρνητικά αποτελέσματα</li> \n",
        "    $Accuracy=\\frac{TP+TN}{TP+FN+TN+FP}$, όπου $TP$: αληθώς θετικά αποτελέσματα, $TN$: αληθώς αρνητικά αποτελέσματα, $FN$: ψευδώς αρνητικά αποτελέσματα, $FP$: ψευδώς θετικά αποτελέσματα</li><BR><BR>\n",
        "        <B><U>Υπόδειξη:</U></B>\n",
        "        Θετικό θεωρήστε ένα αποτέλεσμα, αν η μετρική $JC$ υπερβαίνει μια τιμή κατωφλίου (>=). Αρνητικό θεωρήστε το στην αντίθετη περίπτωση.\n",
        "        <li>Αληθώς θετικά είναι τα αποτελέσματα που βγήκαν θετικά (η τιμή της $JC$ υπερβαίνει την τιμή κατωφλίου) και πράγματι θα υπάρξουν οι συνδέσεις που περιγράφουν (ερ. 1(iv)).</li>\n",
        "        <li>Αληθώς αρνητικά είναι τα αποτελέσματα που βγήκαν αρνητικά και πράγματι δεν θα υπάρξουν οι συνδέσεις που περιγράφουν (ερ. 1(iii)).</li>\n",
        "        <li>Ψευδώς θετικά είναι τα αποτελέσματα που βγήκαν θετικά, ενώ δεν θα υπάρξουν οι συνδέσεις που περιγράφουν.</li>\n",
        "        <li>Ψευδώς αρνητικά είναι τα αποτελέσματα που βγήκαν αρνητικά, ενώ θα υπάρξουν οι συνδέσεις που περιγράφουν.</li>\n",
        "        <li>Το άθροισμα $TN+FP$ πρέπει κάθε φορά να σας δίνει όλες τις ασύνδετες ακμές του γράφου $G$.</li>   \n",
        "<li>Από το ερώτημα 1(iii) οι ακμές που υπολογίσατε είναι αυτές για τις οποίες δεν θα υπάρξουν συνδέσεις.</li> <li>Από το ερώτημα 1(iv) οι ακμές που υπολογίσατε είναι αυτές για τις οποίες θα υπάρξουν συνδέσεις.</li><BR></html>"
      ]
    },
    {
      "cell_type": "code",
      "source": [
        "from sklearn.metrics import accuracy_score\n",
        "from sklearn.metrics import precision_score\n",
        "from sklearn.metrics import recall_score"
      ],
      "metadata": {
        "id": "xEtDtGhpDI6A"
      },
      "id": "xEtDtGhpDI6A",
      "execution_count": 6,
      "outputs": []
    },
    {
      "cell_type": "code",
      "execution_count": 7,
      "id": "d8b0d5fd",
      "metadata": {
        "id": "d8b0d5fd",
        "colab": {
          "base_uri": "https://localhost:8080/",
          "height": 868
        },
        "outputId": "f6a6540f-f1f7-4149-f603-317b4deb0c72"
      },
      "outputs": [
        {
          "output_type": "stream",
          "name": "stdout",
          "text": [
            "The 9 highest JC values are: [1.0, 1.0, 1.0, 1.0, 1.0, 1.0, 1.0, 1.0, 1.0]\n"
          ]
        },
        {
          "output_type": "display_data",
          "data": {
            "text/plain": [
              "<Figure size 432x288 with 1 Axes>"
            ],
            "image/png": "[encoded data removed]"
          },
          "metadata": {
            "needs_background": "light"
          }
        },
        {
          "output_type": "display_data",
          "data": {
            "text/plain": [
              "<Figure size 432x288 with 1 Axes>"
            ],
            "image/png": "[encoded data removed]"
          },
          "metadata": {
            "needs_background": "light"
          }
        },
        {
          "output_type": "display_data",
          "data": {
            "text/plain": [
              "<Figure size 432x288 with 1 Axes>"
            ],
            "image/png": "[encoded data removed]"
          },
          "metadata": {
            "needs_background": "light"
          }
        }
      ],
      "source": [
        "k = 9 #am=el19709 \n",
        "jcpred = list(nx.algorithms.link_prediction.jaccard_coefficient(dbreduced))\n",
        "#print(JC_preds)\n",
        "\n",
        "khighval=[0,0,0,0,0,0,0,0,0]\n",
        "jcvals=[]\n",
        "for u,v,p in jcpred:\n",
        "  jcvals.append(p)\n",
        "  for i in range(k):\n",
        "    if(p>khighval[i]):p,khighval[i]=khighval[i],p\n",
        "\n",
        "print(\"The\",k,\"highest JC values are:\",khighval)\n",
        "\n",
        "thresh=[0.1,0.15,0.25,0.5,1]\n",
        "accs=[]\n",
        "pres=[]\n",
        "recs=[]\n",
        "\n",
        "for t in thresh:\n",
        "  tval=[]\n",
        "  for u,v,p in jcpred:\n",
        "\n",
        "    if(p<t):tval.append(0)\n",
        "    else: tval.append(1)\n",
        "  accs.append(accuracy_score(link,tval))\n",
        "  pres.append(precision_score(link,tval))\n",
        "  recs.append(recall_score(link,tval))\n",
        "\n",
        "plt.figure()\n",
        "plt.plot(thresh,accs)\n",
        "plt.title(\"Accuracy\")\n",
        "plt.xlabel(\"Threshold\")\n",
        "plt.show()\n",
        "plt.figure()\n",
        "plt.plot(thresh,pres)\n",
        "plt.title(\"Precision\")\n",
        "plt.xlabel(\"Threshold\")\n",
        "plt.show()\n",
        "plt.figure()\n",
        "plt.plot(thresh,recs)\n",
        "plt.title(\"Recall\")\n",
        "plt.xlabel(\"Threshold\")\n",
        "plt.show()"
      ]
    },
    {
      "cell_type": "markdown",
      "source": [
        "Παρατηρούμε ότι η μετρική Jaccard Coefficient παίρνει τιμές από το 0 μέχρι το 1, και ότι αρκετοί κόμβοι παίρνουν την μέγιστη τιμή. Επίσης παρατηρούμε ότι όσο ανεβαίνει το κατώφλι, οι μετρικές accuracy και precision αυξάνονται ενώ η μετρική recall μειώνεται. Επιπλέον καταλαβαίνουμε ότι οι μεγάλες τιμές του accuracy οφείλονται στο γεγονός ότι το μεγαλύτερο ποσοστό των δεδομένων είναι ασύνδετα ζευγάρια κόμβων, και όχι ακμές τις οποίες διαγράψαμε (99.75%)."
      ],
      "metadata": {
        "id": "0A0M6PTs2GQF"
      },
      "id": "0A0M6PTs2GQF"
    },
    {
      "cell_type": "markdown",
      "id": "d432396f",
      "metadata": {
        "id": "d432396f"
      },
      "source": [
        "<html><font size=4><B>3. Πρόβλεψη συνδέσμων βάσει similarity-based μετρικών</B></font>    \n",
        "        <li><B>3(i).</B> Προτείνετε μια τουλάχιστον μέθοδο, για να εξερευνήσουμε και να εκφράσουμε μέσα από τα πακέτα NumPy ή SciPy ή Pandas την συσχέτιση (correlation) μεταξύ των τιμών των μετρικών <B>Jaccard Coefficient</B>, <B>Preferential Attachment</B>, <B>Resource Allocation</B> για τον μειωμένο γράφο $G'$. Σημ.: Δεν χρειάζεται κάποια υλοποίηση, μόνο αναφορά της μεθόδου συσχέτισης και επεξήγηση της επιλογής σας.\n",
        "     <li><B>3(ii).</B> Εργαστείτε πάνω σε <B><U>αντίγραφο</U></B> του dataframe που κατασκευάσατε στο ερώτημα 1(vα) (unconnected+removables). Δημιουργήστε στήλη (column) με τις ακμές του γράφου και θέστε την ως index του dataframe. Στο dataframe θα προσθέσετε ως στήλες τις τιμές των μετρικών (<B>Jaccard Coefficient</B>, <B>Preferential Attachment</B>, <B>Resource Allocation</B>) για τον μειωμένο γράφο $G'$. Οι τιμές των μετρικών μπορούν να υπολογιστούν με τις συναρτήσεις του πακέτου NetworkX.</li>   </font></html>\n",
        "    \n",
        "    |       | link  |Jacc.Coeff.|Pr.Attachment| Resource Allocation|\n",
        "    |-------|-------|-----------|-------------|--------------------|\n",
        "    |(1, 6) |  0    |  0.333333 |     32      |    0.700000        |\n",
        "    |(1, 46)|  0    |  0.200000 |      8      |    0.166667        |"
      ]
    },
    {
      "cell_type": "markdown",
      "source": [
        "Για να υπολογίσουμε και να εκφράσουμε τη συσχέτιση μεταξύ των μετρικών Jaccard Coefficient, Preferental Attachment και Resource Allocation, μπορούμε να χρησιμοποιήσουμε την εντολή df.corr() (της βιβλιοθήκης pandas), η οποία υπολογίζει τις συσχετίσεις μεταξύ όλων των στηλών του dataframe, και τις εμφανίζει σε πίνακα. Έτσι θα μπορέσουμε να καταλάβουμε κατά πόσο τα δεδομένα μας είναι συσχετισμένα ή όχι."
      ],
      "metadata": {
        "id": "-U7M3HKC8_Th"
      },
      "id": "-U7M3HKC8_Th"
    },
    {
      "cell_type": "code",
      "execution_count": 8,
      "id": "7c40c8d6",
      "metadata": {
        "id": "7c40c8d6"
      },
      "outputs": [],
      "source": [
        "#replicate of the dataframe \"unconnected+removables\"---dataframe will be used again in (4)\n",
        "dfcopy=df.copy()\n",
        "dfcopy=dfcopy.set_index('edge')"
      ]
    },
    {
      "cell_type": "code",
      "execution_count": 9,
      "id": "8c65a3e6",
      "metadata": {
        "id": "8c65a3e6",
        "colab": {
          "base_uri": "https://localhost:8080/",
          "height": 455
        },
        "outputId": "508d2a2e-f05c-4142-8fc9-50f20a3ff9cf"
      },
      "outputs": [
        {
          "output_type": "execute_result",
          "data": {
            "text/plain": [
              "            link  Jacc.Coeff  Pr. Attachment  Resource Allocation\n",
              "edge                                                             \n",
              "(1, 2)         1         0.0               1                  0.0\n",
              "(1, 3)         1         0.0               2                  0.0\n",
              "(1, 4)         1         0.0               1                  0.0\n",
              "(1, 6)         0         0.0               7                  0.0\n",
              "(1, 7)         0         0.0               1                  0.0\n",
              "...          ...         ...             ...                  ...\n",
              "(426, 430)     0         0.0               1                  0.0\n",
              "(427, 428)     0         0.0               2                  0.0\n",
              "(427, 429)     0         0.0               1                  0.0\n",
              "(427, 430)     0         0.0               1                  0.0\n",
              "(429, 430)     0         1.0               1                  1.0\n",
              "\n",
              "[91900 rows x 4 columns]"
            ],
            "text/html": [
              "\n",
              "  <div id=\"df-4e616fee-79f9-4e8d-94cf-6851ee6c1970\">\n",
              "    <div class=\"colab-df-container\">\n",
              "      <div>\n",
              "<style scoped>\n",
              "    .dataframe tbody tr th:only-of-type {\n",
              "        vertical-align: middle;\n",
              "    }\n",
              "\n",
              "    .dataframe tbody tr th {\n",
              "        vertical-align: top;\n",
              "    }\n",
              "\n",
              "    .dataframe thead th {\n",
              "        text-align: right;\n",
              "    }\n",
              "</style>\n",
              "<table border=\"1\" class=\"dataframe\">\n",
              "  <thead>\n",
              "    <tr style=\"text-align: right;\">\n",
              "      <th></th>\n",
              "      <th>link</th>\n",
              "      <th>Jacc.Coeff</th>\n",
              "      <th>Pr. Attachment</th>\n",
              "      <th>Resource Allocation</th>\n",
              "    </tr>\n",
              "    <tr>\n",
              "      <th>edge</th>\n",
              "      <th></th>\n",
              "      <th></th>\n",
              "      <th></th>\n",
              "      <th></th>\n",
              "    </tr>\n",
              "  </thead>\n",
              "  <tbody>\n",
              "    <tr>\n",
              "      <th>(1, 2)</th>\n",
              "      <td>1</td>\n",
              "      <td>0.0</td>\n",
              "      <td>1</td>\n",
              "      <td>0.0</td>\n",
              "    </tr>\n",
              "    <tr>\n",
              "      <th>(1, 3)</th>\n",
              "      <td>1</td>\n",
              "      <td>0.0</td>\n",
              "      <td>2</td>\n",
              "      <td>0.0</td>\n",
              "    </tr>\n",
              "    <tr>\n",
              "      <th>(1, 4)</th>\n",
              "      <td>1</td>\n",
              "      <td>0.0</td>\n",
              "      <td>1</td>\n",
              "      <td>0.0</td>\n",
              "    </tr>\n",
              "    <tr>\n",
              "      <th>(1, 6)</th>\n",
              "      <td>0</td>\n",
              "      <td>0.0</td>\n",
              "      <td>7</td>\n",
              "      <td>0.0</td>\n",
              "    </tr>\n",
              "    <tr>\n",
              "      <th>(1, 7)</th>\n",
              "      <td>0</td>\n",
              "      <td>0.0</td>\n",
              "      <td>1</td>\n",
              "      <td>0.0</td>\n",
              "    </tr>\n",
              "    <tr>\n",
              "      <th>...</th>\n",
              "      <td>...</td>\n",
              "      <td>...</td>\n",
              "      <td>...</td>\n",
              "      <td>...</td>\n",
              "    </tr>\n",
              "    <tr>\n",
              "      <th>(426, 430)</th>\n",
              "      <td>0</td>\n",
              "      <td>0.0</td>\n",
              "      <td>1</td>\n",
              "      <td>0.0</td>\n",
              "    </tr>\n",
              "    <tr>\n",
              "      <th>(427, 428)</th>\n",
              "      <td>0</td>\n",
              "      <td>0.0</td>\n",
              "      <td>2</td>\n",
              "      <td>0.0</td>\n",
              "    </tr>\n",
              "    <tr>\n",
              "      <th>(427, 429)</th>\n",
              "      <td>0</td>\n",
              "      <td>0.0</td>\n",
              "      <td>1</td>\n",
              "      <td>0.0</td>\n",
              "    </tr>\n",
              "    <tr>\n",
              "      <th>(427, 430)</th>\n",
              "      <td>0</td>\n",
              "      <td>0.0</td>\n",
              "      <td>1</td>\n",
              "      <td>0.0</td>\n",
              "    </tr>\n",
              "    <tr>\n",
              "      <th>(429, 430)</th>\n",
              "      <td>0</td>\n",
              "      <td>1.0</td>\n",
              "      <td>1</td>\n",
              "      <td>1.0</td>\n",
              "    </tr>\n",
              "  </tbody>\n",
              "</table>\n",
              "<p>91900 rows × 4 columns</p>\n",
              "</div>\n",
              "      <button class=\"colab-df-convert\" onclick=\"convertToInteractive('df-4e616fee-79f9-4e8d-94cf-6851ee6c1970')\"\n",
              "              title=\"Convert this dataframe to an interactive table.\"\n",
              "              style=\"display:none;\">\n",
              "        \n",
              "  <svg xmlns=\"http://www.w3.org/2000/svg\" height=\"24px\"viewBox=\"0 0 24 24\"\n",
              "       width=\"24px\">\n",
              "    <path d=\"M0 0h24v24H0V0z\" fill=\"none\"/>\n",
              "    <path d=\"M18.56 5.44l.94 2.06.94-2.06 2.06-.94-2.06-.94-.94-2.06-.94 2.06-2.06.94zm-11 1L8.5 8.5l.94-2.06 2.06-.94-2.06-.94L8.5 2.5l-.94 2.06-2.06.94zm10 10l.94 2.06.94-2.06 2.06-.94-2.06-.94-.94-2.06-.94 2.06-2.06.94z\"/><path d=\"M17.41 7.96l-1.37-1.37c-.4-.4-.92-.59-1.43-.59-.52 0-1.04.2-1.43.59L10.3 9.45l-7.72 7.72c-.78.78-.78 2.05 0 2.83L4 21.41c.39.39.9.59 1.41.59.51 0 1.02-.2 1.41-.59l7.78-7.78 2.81-2.81c.8-.78.8-2.07 0-2.86zM5.41 20L4 18.59l7.72-7.72 1.47 1.35L5.41 20z\"/>\n",
              "  </svg>\n",
              "      </button>\n",
              "      \n",
              "  <style>\n",
              "    .colab-df-container {\n",
              "      display:flex;\n",
              "      flex-wrap:wrap;\n",
              "      gap: 12px;\n",
              "    }\n",
              "\n",
              "    .colab-df-convert {\n",
              "      background-color: #E8F0FE;\n",
              "      border: none;\n",
              "      border-radius: 50%;\n",
              "      cursor: pointer;\n",
              "      display: none;\n",
              "      fill: #1967D2;\n",
              "      height: 32px;\n",
              "      padding: 0 0 0 0;\n",
              "      width: 32px;\n",
              "    }\n",
              "\n",
              "    .colab-df-convert:hover {\n",
              "      background-color: #E2EBFA;\n",
              "      box-shadow: 0px 1px 2px rgba(60, 64, 67, 0.3), 0px 1px 3px 1px rgba(60, 64, 67, 0.15);\n",
              "      fill: #174EA6;\n",
              "    }\n",
              "\n",
              "    [theme=dark] .colab-df-convert {\n",
              "      background-color: #3B4455;\n",
              "      fill: #D2E3FC;\n",
              "    }\n",
              "\n",
              "    [theme=dark] .colab-df-convert:hover {\n",
              "      background-color: #434B5C;\n",
              "      box-shadow: 0px 1px 3px 1px rgba(0, 0, 0, 0.15);\n",
              "      filter: drop-shadow(0px 1px 2px rgba(0, 0, 0, 0.3));\n",
              "      fill: #FFFFFF;\n",
              "    }\n",
              "  </style>\n",
              "\n",
              "      <script>\n",
              "        const buttonEl =\n",
              "          document.querySelector('#df-4e616fee-79f9-4e8d-94cf-6851ee6c1970 button.colab-df-convert');\n",
              "        buttonEl.style.display =\n",
              "          google.colab.kernel.accessAllowed ? 'block' : 'none';\n",
              "\n",
              "        async function convertToInteractive(key) {\n",
              "          const element = document.querySelector('#df-4e616fee-79f9-4e8d-94cf-6851ee6c1970');\n",
              "          const dataTable =\n",
              "            await google.colab.kernel.invokeFunction('convertToInteractive',\n",
              "                                                     [key], {});\n",
              "          if (!dataTable) return;\n",
              "\n",
              "          const docLinkHtml = 'Like what you see? Visit the ' +\n",
              "            '<a target=\"_blank\" href=https://colab.research.google.com/notebooks/data_table.ipynb>data table notebook</a>'\n",
              "            + ' to learn more about interactive tables.';\n",
              "          element.innerHTML = '';\n",
              "          dataTable['output_type'] = 'display_data';\n",
              "          await google.colab.output.renderOutput(dataTable, element);\n",
              "          const docLink = document.createElement('div');\n",
              "          docLink.innerHTML = docLinkHtml;\n",
              "          element.appendChild(docLink);\n",
              "        }\n",
              "      </script>\n",
              "    </div>\n",
              "  </div>\n",
              "  "
            ]
          },
          "metadata": {},
          "execution_count": 9
        }
      ],
      "source": [
        "#Jaccard Coefficient\n",
        "dfcopy['Jacc.Coeff']=jcvals\n",
        "\n",
        "#Preferential Attachment\n",
        "pratval=[]\n",
        "for edge in dfedge:\n",
        "  pratval.append(dbreduced.degree(edge[0])*dbreduced.degree(edge[1]))\n",
        "dfcopy['Pr. Attachment']=pratval\n",
        "\n",
        "#Resource Allocation\n",
        "resall=list(nx.algorithms.link_prediction.resource_allocation_index(dbreduced))\n",
        "resallval=[]\n",
        "for u,v,p in jcpred:\n",
        "  resallval.append(p)\n",
        "dfcopy['Resource Allocation']=resallval\n",
        "\n",
        "dfcopy"
      ]
    },
    {
      "cell_type": "markdown",
      "id": "76f9318d",
      "metadata": {
        "id": "76f9318d"
      },
      "source": [
        "<li><B>3(iiiα).</B> Χρησιμοποιήστε τον Random Forest Classifier και το αντίγραφο dataframe που κατασκευάσατε στο ερώτημα 3(ii), για να προβλέψετε συνδέσεις. Συμπληρώστε στον κώδικα: τα features ($X$), την target variable ($y$) και τα ορίσματα της συνάρτησης $fit$ για το training του μοντέλου.</li>\n",
        "<li><B>3(iiiβ).</B> Δώστε τις ($A.M$ $mod$ $10$) πρώτες προβλέψεις και την ακρίβεια ($accuracy$) του μοντέλου. </li>\n",
        "<li><B>3(iiiγ).</B>Υπολογίστε την πιθανότητα να συνδεθούν οι κόμβοι ($1$,$47$) βάσει του μοντέλου σας. </li>  "
      ]
    },
    {
      "cell_type": "code",
      "execution_count": 10,
      "id": "df4a65f5",
      "metadata": {
        "id": "df4a65f5"
      },
      "outputs": [],
      "source": [
        "from sklearn.model_selection import train_test_split\n",
        "from sklearn.ensemble import RandomForestClassifier\n",
        "from sklearn.metrics import accuracy_score\n",
        "from sklearn.model_selection import GridSearchCV\n",
        " \n",
        "X = dfcopy.drop('link',axis=1)\n",
        "y = dfcopy['link']\n",
        "\n",
        "X_train, X_test, y_train, y_test = train_test_split(X,y, random_state = 0)"
      ]
    },
    {
      "cell_type": "code",
      "execution_count": 11,
      "id": "26affc3a",
      "metadata": {
        "id": "26affc3a"
      },
      "outputs": [],
      "source": [
        "classifier = RandomForestClassifier()   \n",
        "\n",
        "from sklearn.preprocessing import MinMaxScaler \n",
        "mm_scaler = MinMaxScaler() \n",
        "X_train_scaled = mm_scaler.fit_transform(X_train)\n",
        "X_test_scaled = mm_scaler.transform(X_test)\n",
        "\n",
        "parameters = {'n_estimators' : [10,50,100], 'max_depth' : [5,10,15]} \n",
        "model = GridSearchCV(classifier, param_grid = parameters) "
      ]
    },
    {
      "cell_type": "code",
      "execution_count": 12,
      "id": "431e2d35",
      "metadata": {
        "id": "431e2d35",
        "colab": {
          "base_uri": "https://localhost:8080/"
        },
        "outputId": "691bbc88-14fc-45ec-f778-6f19c932fd64"
      },
      "outputs": [
        {
          "output_type": "execute_result",
          "data": {
            "text/plain": [
              "GridSearchCV(estimator=RandomForestClassifier(),\n",
              "             param_grid={'max_depth': [5, 10, 15],\n",
              "                         'n_estimators': [10, 50, 100]})"
            ]
          },
          "metadata": {},
          "execution_count": 12
        }
      ],
      "source": [
        "model.fit(X_train_scaled,y_train )"
      ]
    },
    {
      "cell_type": "code",
      "execution_count": 13,
      "id": "1b075584",
      "metadata": {
        "id": "1b075584",
        "colab": {
          "base_uri": "https://localhost:8080/"
        },
        "outputId": "38f985c6-4839-442e-f3ea-d63e69d47c66"
      },
      "outputs": [
        {
          "output_type": "stream",
          "name": "stdout",
          "text": [
            "First 9 predictions of model: [0 0 0 0 0 0 0 0 0]\n",
            "Accuracy of model: 0.9962568008705114\n"
          ]
        }
      ],
      "source": [
        "predictions = model.predict(X_test_scaled)\n",
        "print(\"First\",k,\"predictions of model:\",predictions[0:k])\n",
        "accuracy=accuracy_score(y_test,predictions)\n",
        "print(\"Accuracy of model:\",accuracy)"
      ]
    },
    {
      "cell_type": "code",
      "execution_count": 14,
      "id": "b042eca7",
      "metadata": {
        "id": "b042eca7",
        "colab": {
          "base_uri": "https://localhost:8080/"
        },
        "outputId": "d4ecba55-2a1b-4354-fa8a-dff633a86370"
      },
      "outputs": [
        {
          "output_type": "stream",
          "name": "stdout",
          "text": [
            "The probability of nodes 1 and 47 connecting is: 0.005247511625992548\n"
          ]
        }
      ],
      "source": [
        "edge1_47 = dfcopy.loc[[(1, 47)]]\n",
        "edge1_47 = edge1_47.drop('link',axis=1)\n",
        "edge1_47 = mm_scaler.transform(edge1_47)\n",
        "predict_proba = model.predict_proba(edge1_47)\n",
        "print(\"The probability of nodes 1 and 47 connecting is:\",predict_proba[0][1])"
      ]
    },
    {
      "cell_type": "markdown",
      "id": "f4c43988",
      "metadata": {
        "id": "f4c43988"
      },
      "source": [
        "<html><font size=4><B>4. Πρόβλεψη συνδέσμων με embedding βασισμένο σε τυχαίους περιπάτους (Random Walks) </B></font><BR><BR>\n",
        "    <li><B>4(i).</B> Εξάγετε τα χαρακτηριστικά (features) του γράφου $G'$, που προέκυψε από την αφαίρεση των ακμών. Για τον σκοπό αυτό χρησιμοποιήστε τον αλγόριθμο <B>Node2vec</B> <a href=\"https://cs.stanford.edu/~jure/pubs/node2vec-kdd16.pdf\">[3]</a>. Ο αλγόριθμος αντιστοιχίζει τους κόμβους του γράφου μέσω τυχαίων περιπάτων (biased 2nd order random walks) σε ένα χώρο μικρού αριθμού διαστάσεων (low dimensional space) διατηρώντας την μεταξύ τους γειτνίαση.\n",
        "        <BR>Για την επιλογή των παραμέτρων: \n",
        "            <li>p - παράμετρος τυχαίων περιπάτων p που καθορίζει την πιθανότητα “1/p” επιστροφής στον κόμβο προέλευσης (source node), </li>\n",
        "                <li>q - παράμετρος τυχαίων περιπάτων q που καθορίζει την πιθανότητα  “1/q” μετακίνησης σε κόμβο μακριά από τον κόμβο προέλευσης (source node), </li>\n",
        "                 <li>dimensions - πλήθος διαστάσεων των Node2Vec embeddings, </li>\n",
        "                     <li>num_walks - αριθμός περιπάτων από κάθε κόμβο, </li>\n",
        "                         <li>walk_length - μήκος τυχαίου περιπάτου, </li>\n",
        "                             <li>window_size - μέγεθος παραθύρου context για τον αλγόριθμο Word2Vec, </li><li>num_iter - αριθμός SGD επαναλήψεων (epochs), </li>\n",
        "            <li>workers - αριθμός workers για τον Word2Vec,</li>\n",
        "            χρησιμοποιήστε τις τιμές:   </html>\n",
        "   \n",
        "                   "
      ]
    },
    {
      "cell_type": "markdown",
      "id": "fdbc5274",
      "metadata": {
        "id": "fdbc5274"
      },
      "source": [
        " |   p   |   q   | dimensions|  num_walks  |walk_length |window_size|        workers            |\n",
        " |-------|-------|-----------|-------------|------------|-----------|---------------------------|\n",
        " |  1.0  |  1.0  |  128      |     10      |    80      |     10    |multiprocessing.cpu_count()|"
      ]
    },
    {
      "cell_type": "code",
      "execution_count": 21,
      "id": "aa8e668d",
      "metadata": {
        "id": "aa8e668d",
        "colab": {
          "base_uri": "https://localhost:8080/",
          "height": 49,
          "referenced_widgets": [
            "48e64cb24e964914b01a697282c0bced",
            "d251ed24d8d6427fb5c8b294e7ee335c",
            "20a148c87b5d452eab21b3bc2d888cf7",
            "df3f92a2079e45439bd6aa560c50817d",
            "2df83956e31f4058b6b54cc10bed6c2f",
            "20621f73b7f24204a258be34c5c56c8b",
            "40ec3596356646c3af616bb6f876e47b",
            "edc8f2f5724641068ccd4a1cf500a38c",
            "ee2415883d824ffc8feb489a3224ea9b",
            "675fc873cf7c4c6f81c37a2f561dc3dc",
            "41780b6b27ba45c3809c3920bcc99c30"
          ]
        },
        "outputId": "12facc91-4e66-4e5b-99c7-f1c41149530c"
      },
      "outputs": [
        {
          "output_type": "display_data",
          "data": {
            "text/plain": [
              "Computing transition probabilities:   0%|          | 0/430 [00:00<?, ?it/s]"
            ],
            "application/vnd.jupyter.widget-view+json": {
              "version_major": 2,
              "version_minor": 0,
              "model_id": "48e64cb24e964914b01a697282c0bced"
            }
          },
          "metadata": {}
        }
      ],
      "source": [
        "#pip install node2vec\n",
        "from node2vec import Node2Vec   #uncomment\n",
        "import multiprocessing          #uncomment\n",
        "\n",
        "#generate walks\n",
        "node2vec_walker = Node2Vec(dbreduced,p=1.0,q=1.0 ,dimensions=128 ,walk_length=80 ,num_walks=10 , workers=multiprocessing.cpu_count())\n",
        "\n",
        "#train node2vec model\n",
        "n2v_model = node2vec_walker.fit(window=10 , min_count=1)"
      ]
    },
    {
      "cell_type": "markdown",
      "id": "294f0aab",
      "metadata": {
        "id": "294f0aab"
      },
      "source": [
        "<html><font>\n",
        "    <li><B>4(ii).</B> Εφαρμόστε τον αλγόριθμο Random Forest Classifier, για να προβλέψετε τις συνδέσεις.</li><BR>\n",
        "    <li><B>4(iii).</B> Υπολογίστε την ακρίβεια ($accuracy$) του μοντέλου. </li><BR></font></html>"
      ]
    },
    {
      "cell_type": "code",
      "execution_count": 23,
      "id": "6269b89a",
      "metadata": {
        "id": "6269b89a"
      },
      "outputs": [],
      "source": [
        "#apply trained Node2Vec model on each node pair of the dataframe \"unconnected+removables\"\n",
        "x = [(n2v_model.wv[str(i)]+n2v_model.wv[str(j)]) for i,j in df['edge']]"
      ]
    },
    {
      "cell_type": "code",
      "execution_count": 24,
      "id": "b74e7aa7",
      "metadata": {
        "id": "b74e7aa7"
      },
      "outputs": [],
      "source": [
        "X_train, X_test, y_train, y_test = train_test_split(x,y , random_state = 0)"
      ]
    },
    {
      "cell_type": "code",
      "execution_count": 25,
      "id": "e75cfde7",
      "metadata": {
        "id": "e75cfde7",
        "colab": {
          "base_uri": "https://localhost:8080/"
        },
        "outputId": "253fe72a-815b-448c-a7b3-aa314d21db95"
      },
      "outputs": [
        {
          "output_type": "stream",
          "name": "stdout",
          "text": [
            "Accuracy of model: 0.99791077257889\n"
          ]
        }
      ],
      "source": [
        "classifier = RandomForestClassifier(max_depth=2, random_state=0) \n",
        "classifier.fit(X_train,y_train)\n",
        "\n",
        "predictions = classifier.predict(X_test)\n",
        "accuracy=accuracy_score(y_test,predictions)\n",
        "print(\"Accuracy of model:\",accuracy)"
      ]
    },
    {
      "cell_type": "markdown",
      "source": [
        "Παρατηρούμε ότι η ακρίβεια του μοντέλου είναι μεγαλύτερη από αυτό που χρησιμοποιούμε τις μετρικές Jaccard Coefficient, Preferential Attachment και Resource Allocation."
      ],
      "metadata": {
        "id": "qQ2ePKDO5K2I"
      },
      "id": "qQ2ePKDO5K2I"
    },
    {
      "cell_type": "markdown",
      "id": "a0c0b3bb",
      "metadata": {
        "id": "a0c0b3bb"
      },
      "source": [
        "<html><font size=4> <B><U>Ερώτηση bonus (+10/100)</U><B>: </font>Για τους binary operators για learning των edge features με τον αλγόριθμο Node2Vec που αναφέρονται στο <a href=\"https://cs.stanford.edu/~jure/pubs/node2vec-kdd16.pdf\">[3]</a> ((α) Average, (β) Hadamard, (γ) Weighted-L1 και (δ) Weighted-L2) τροποποιήστε τoν κώδικά σας και σημειώστε τις παρατηρήσεις σας ως προς την απόδοση του αλγορίθμου.</font></html>"
      ]
    },
    {
      "cell_type": "markdown",
      "id": "8da3a402",
      "metadata": {
        "id": "8da3a402"
      },
      "source": [
        "<html><font size=4><B><U>Βιβλιογραφία:</U></B><BR></font>\n",
        "<a href=\"https://dl.acm.org/doi/10.1145/2487788.2488173\">[1]\tJérôme Kunegis. KONECT – The Koblenz Network Collection. In Proc. Int. Conf. on World Wide Web Companion, pages 1343–1350, 2013.</a><BR>\n",
        "<a href=\"https://link.springer.com/chapter/10.1007/978-3-540-76298-0_52\">[2]\tSören Auer, Christian Bizer, Georgi Kobilarov, Jens Lehmann, Richard Cyganiak, and Zachary Ives. DBpedia: A nucleus for a web of open data. In Proc. Int. Semant. Web Conf., pages 722–735, 2008.<BR>\n",
        "<a href=\"https://cs.stanford.edu/~jure/pubs/node2vec-kdd16.pdf\">[3] A. Grover, J. Leskovec, Node2vec: Scalable Feature Learning for Networks. ACM KDD, 2016.</a><BR>\n",
        " <a href=\"https://proceedings.neurips.cc/paper/2013/file/9aa42b31882ec039965f3c4923ce901b-Paper.pdf\">[4] T.Mikolov, I.Sutskever, K.Chen, G.S.Corrado and J.Dean, Distributed representations of words and phrases and their compositionality. In NIPS, 2013.</a><BR></font></html>"
      ]
    },
    {
      "cell_type": "code",
      "execution_count": 29,
      "id": "89f16b76",
      "metadata": {
        "id": "89f16b76",
        "colab": {
          "base_uri": "https://localhost:8080/"
        },
        "outputId": "c1c9f28f-b259-4388-a726-2a5c845365dc"
      },
      "outputs": [
        {
          "output_type": "stream",
          "name": "stdout",
          "text": [
            "Accuracy of model (average operator): 0.99791077257889\n",
            "Accuracy of model (hadamard operator): 0.99791077257889\n",
            "Accuracy of model (weighted l-1 operator): 0.9963003264417846\n",
            "Accuracy of model (weighted l-2 operator): 0.9963003264417846\n"
          ]
        }
      ],
      "source": [
        "x = [((n2v_model.wv[str(i)]+n2v_model.wv[str(j)])/2) for i,j in df['edge']] #average\n",
        "X_train, X_test, y_train, y_test = train_test_split(x,y , random_state = 0)\n",
        "classifier = RandomForestClassifier(max_depth=2, random_state=0) \n",
        "classifier.fit(X_train,y_train)\n",
        "predictions = classifier.predict(X_test)\n",
        "accuracy=accuracy_score(y_test,predictions)\n",
        "print(\"Accuracy of model (average operator):\",accuracy)\n",
        "\n",
        "x = [(n2v_model.wv[str(i)]*n2v_model.wv[str(j)]) for i,j in df['edge']] #hadamard\n",
        "X_train, X_test, y_train, y_test = train_test_split(x,y , random_state = 0)\n",
        "classifier = RandomForestClassifier(max_depth=2, random_state=0) \n",
        "classifier.fit(X_train,y_train)\n",
        "predictions = classifier.predict(X_test)\n",
        "accuracy=accuracy_score(y_test,predictions)\n",
        "print(\"Accuracy of model (hadamard operator):\",accuracy)\n",
        "\n",
        "x = [(abs(n2v_model.wv[str(i)]-n2v_model.wv[str(j)])) for i,j in df['edge']] #weighted-l1\n",
        "X_train, X_test, y_train, y_test = train_test_split(x,y , random_state = 0)\n",
        "classifier = RandomForestClassifier(max_depth=2, random_state=0) \n",
        "classifier.fit(X_train,y_train)\n",
        "predictions = classifier.predict(X_test)\n",
        "accuracy=accuracy_score(y_test,predictions)\n",
        "print(\"Accuracy of model (weighted l-1 operator):\",accuracy)\n",
        "\n",
        "x = [((n2v_model.wv[str(i)]-n2v_model.wv[str(j)])*(n2v_model.wv[str(i)]-n2v_model.wv[str(j)])) for i,j in df['edge']] #weighted-l2\n",
        "X_train, X_test, y_train, y_test = train_test_split(x,y , random_state = 0)\n",
        "classifier = RandomForestClassifier(max_depth=2, random_state=0) \n",
        "classifier.fit(X_train,y_train)\n",
        "predictions = classifier.predict(X_test)\n",
        "accuracy=accuracy_score(y_test,predictions)\n",
        "print(\"Accuracy of model (weighted l-2 operator):\",accuracy)"
      ]
    },
    {
      "cell_type": "markdown",
      "source": [
        "Από τα παραπάνω αποτελέσματα φαίνεται πως η ακρίβεια του μοντέλου μένει σταθερή για τους operators average και hadamard, ενώ μειώνεται για τους operators weighted-l1 και weighted-l2. Ωστόσο, όλα τα μοντέλα έχουν καλύτερη ακρίβεια από αυτό του ερωτήματος 3."
      ],
      "metadata": {
        "id": "7l9ezt1-5qGQ"
      },
      "id": "7l9ezt1-5qGQ"
    }
  ],
  "metadata": {
    "kernelspec": {
      "display_name": "Python 3",
      "language": "python",
      "name": "python3"
    },
    "language_info": {
      "codemirror_mode": {
        "name": "ipython",
        "version": 3
      },
      "file_extension": ".py",
      "mimetype": "text/x-python",
      "name": "python",
      "nbconvert_exporter": "python",
      "pygments_lexer": "ipython3",
      "version": "3.8.8"
    },
    "colab": {
      "provenance": []
    },
    "widgets": {
      "application/vnd.jupyter.widget-state+json": {
        "48e64cb24e964914b01a697282c0bced": {
          "model_module": "@jupyter-widgets/controls",
          "model_name": "HBoxModel",
          "model_module_version": "1.5.0",
          "state": {
            "_dom_classes": [],
            "_model_module": "@jupyter-widgets/controls",
            "_model_module_version": "1.5.0",
            "_model_name": "HBoxModel",
            "_view_count": null,
            "_view_module": "@jupyter-widgets/controls",
            "_view_module_version": "1.5.0",
            "_view_name": "HBoxView",
            "box_style": "",
            "children": [
              "IPY_MODEL_d251ed24d8d6427fb5c8b294e7ee335c",
              "IPY_MODEL_20a148c87b5d452eab21b3bc2d888cf7",
              "IPY_MODEL_df3f92a2079e45439bd6aa560c50817d"
            ],
            "layout": "IPY_MODEL_2df83956e31f4058b6b54cc10bed6c2f"
          }
        },
        "d251ed24d8d6427fb5c8b294e7ee335c": {
          "model_module": "@jupyter-widgets/controls",
          "model_name": "HTMLModel",
          "model_module_version": "1.5.0",
          "state": {
            "_dom_classes": [],
            "_model_module": "@jupyter-widgets/controls",
            "_model_module_version": "1.5.0",
            "_model_name": "HTMLModel",
            "_view_count": null,
            "_view_module": "@jupyter-widgets/controls",
            "_view_module_version": "1.5.0",
            "_view_name": "HTMLView",
            "description": "",
            "description_tooltip": null,
            "layout": "IPY_MODEL_20621f73b7f24204a258be34c5c56c8b",
            "placeholder": "​",
            "style": "IPY_MODEL_40ec3596356646c3af616bb6f876e47b",
            "value": "Computing transition probabilities: 100%"
          }
        },
        "20a148c87b5d452eab21b3bc2d888cf7": {
          "model_module": "@jupyter-widgets/controls",
          "model_name": "FloatProgressModel",
          "model_module_version": "1.5.0",
          "state": {
            "_dom_classes": [],
            "_model_module": "@jupyter-widgets/controls",
            "_model_module_version": "1.5.0",
            "_model_name": "FloatProgressModel",
            "_view_count": null,
            "_view_module": "@jupyter-widgets/controls",
            "_view_module_version": "1.5.0",
            "_view_name": "ProgressView",
            "bar_style": "success",
            "description": "",
            "description_tooltip": null,
            "layout": "IPY_MODEL_edc8f2f5724641068ccd4a1cf500a38c",
            "max": 430,
            "min": 0,
            "orientation": "horizontal",
            "style": "IPY_MODEL_ee2415883d824ffc8feb489a3224ea9b",
            "value": 430
          }
        },
        "df3f92a2079e45439bd6aa560c50817d": {
          "model_module": "@jupyter-widgets/controls",
          "model_name": "HTMLModel",
          "model_module_version": "1.5.0",
          "state": {
            "_dom_classes": [],
            "_model_module": "@jupyter-widgets/controls",
            "_model_module_version": "1.5.0",
            "_model_name": "HTMLModel",
            "_view_count": null,
            "_view_module": "@jupyter-widgets/controls",
            "_view_module_version": "1.5.0",
            "_view_name": "HTMLView",
            "description": "",
            "description_tooltip": null,
            "layout": "IPY_MODEL_675fc873cf7c4c6f81c37a2f561dc3dc",
            "placeholder": "​",
            "style": "IPY_MODEL_41780b6b27ba45c3809c3920bcc99c30",
            "value": " 430/430 [00:00&lt;00:00, 827.24it/s]"
          }
        },
        "2df83956e31f4058b6b54cc10bed6c2f": {
          "model_module": "@jupyter-widgets/base",
          "model_name": "LayoutModel",
          "model_module_version": "1.2.0",
          "state": {
            "_model_module": "@jupyter-widgets/base",
            "_model_module_version": "1.2.0",
            "_model_name": "LayoutModel",
            "_view_count": null,
            "_view_module": "@jupyter-widgets/base",
            "_view_module_version": "1.2.0",
            "_view_name": "LayoutView",
            "align_content": null,
            "align_items": null,
            "align_self": null,
            "border": null,
            "bottom": null,
            "display": null,
            "flex": null,
            "flex_flow": null,
            "grid_area": null,
            "grid_auto_columns": null,
            "grid_auto_flow": null,
            "grid_auto_rows": null,
            "grid_column": null,
            "grid_gap": null,
            "grid_row": null,
            "grid_template_areas": null,
            "grid_template_columns": null,
            "grid_template_rows": null,
            "height": null,
            "justify_content": null,
            "justify_items": null,
            "left": null,
            "margin": null,
            "max_height": null,
            "max_width": null,
            "min_height": null,
            "min_width": null,
            "object_fit": null,
            "object_position": null,
            "order": null,
            "overflow": null,
            "overflow_x": null,
            "overflow_y": null,
            "padding": null,
            "right": null,
            "top": null,
            "visibility": null,
            "width": null
          }
        },
        "20621f73b7f24204a258be34c5c56c8b": {
          "model_module": "@jupyter-widgets/base",
          "model_name": "LayoutModel",
          "model_module_version": "1.2.0",
          "state": {
            "_model_module": "@jupyter-widgets/base",
            "_model_module_version": "1.2.0",
            "_model_name": "LayoutModel",
            "_view_count": null,
            "_view_module": "@jupyter-widgets/base",
            "_view_module_version": "1.2.0",
            "_view_name": "LayoutView",
            "align_content": null,
            "align_items": null,
            "align_self": null,
            "border": null,
            "bottom": null,
            "display": null,
            "flex": null,
            "flex_flow": null,
            "grid_area": null,
            "grid_auto_columns": null,
            "grid_auto_flow": null,
            "grid_auto_rows": null,
            "grid_column": null,
            "grid_gap": null,
            "grid_row": null,
            "grid_template_areas": null,
            "grid_template_columns": null,
            "grid_template_rows": null,
            "height": null,
            "justify_content": null,
            "justify_items": null,
            "left": null,
            "margin": null,
            "max_height": null,
            "max_width": null,
            "min_height": null,
            "min_width": null,
            "object_fit": null,
            "object_position": null,
            "order": null,
            "overflow": null,
            "overflow_x": null,
            "overflow_y": null,
            "padding": null,
            "right": null,
            "top": null,
            "visibility": null,
            "width": null
          }
        },
        "40ec3596356646c3af616bb6f876e47b": {
          "model_module": "@jupyter-widgets/controls",
          "model_name": "DescriptionStyleModel",
          "model_module_version": "1.5.0",
          "state": {
            "_model_module": "@jupyter-widgets/controls",
            "_model_module_version": "1.5.0",
            "_model_name": "DescriptionStyleModel",
            "_view_count": null,
            "_view_module": "@jupyter-widgets/base",
            "_view_module_version": "1.2.0",
            "_view_name": "StyleView",
            "description_width": ""
          }
        },
        "edc8f2f5724641068ccd4a1cf500a38c": {
          "model_module": "@jupyter-widgets/base",
          "model_name": "LayoutModel",
          "model_module_version": "1.2.0",
          "state": {
            "_model_module": "@jupyter-widgets/base",
            "_model_module_version": "1.2.0",
            "_model_name": "LayoutModel",
            "_view_count": null,
            "_view_module": "@jupyter-widgets/base",
            "_view_module_version": "1.2.0",
            "_view_name": "LayoutView",
            "align_content": null,
            "align_items": null,
            "align_self": null,
            "border": null,
            "bottom": null,
            "display": null,
            "flex": null,
            "flex_flow": null,
            "grid_area": null,
            "grid_auto_columns": null,
            "grid_auto_flow": null,
            "grid_auto_rows": null,
            "grid_column": null,
            "grid_gap": null,
            "grid_row": null,
            "grid_template_areas": null,
            "grid_template_columns": null,
            "grid_template_rows": null,
            "height": null,
            "justify_content": null,
            "justify_items": null,
            "left": null,
            "margin": null,
            "max_height": null,
            "max_width": null,
            "min_height": null,
            "min_width": null,
            "object_fit": null,
            "object_position": null,
            "order": null,
            "overflow": null,
            "overflow_x": null,
            "overflow_y": null,
            "padding": null,
            "right": null,
            "top": null,
            "visibility": null,
            "width": null
          }
        },
        "ee2415883d824ffc8feb489a3224ea9b": {
          "model_module": "@jupyter-widgets/controls",
          "model_name": "ProgressStyleModel",
          "model_module_version": "1.5.0",
          "state": {
            "_model_module": "@jupyter-widgets/controls",
            "_model_module_version": "1.5.0",
            "_model_name": "ProgressStyleModel",
            "_view_count": null,
            "_view_module": "@jupyter-widgets/base",
            "_view_module_version": "1.2.0",
            "_view_name": "StyleView",
            "bar_color": null,
            "description_width": ""
          }
        },
        "675fc873cf7c4c6f81c37a2f561dc3dc": {
          "model_module": "@jupyter-widgets/base",
          "model_name": "LayoutModel",
          "model_module_version": "1.2.0",
          "state": {
            "_model_module": "@jupyter-widgets/base",
            "_model_module_version": "1.2.0",
            "_model_name": "LayoutModel",
            "_view_count": null,
            "_view_module": "@jupyter-widgets/base",
            "_view_module_version": "1.2.0",
            "_view_name": "LayoutView",
            "align_content": null,
            "align_items": null,
            "align_self": null,
            "border": null,
            "bottom": null,
            "display": null,
            "flex": null,
            "flex_flow": null,
            "grid_area": null,
            "grid_auto_columns": null,
            "grid_auto_flow": null,
            "grid_auto_rows": null,
            "grid_column": null,
            "grid_gap": null,
            "grid_row": null,
            "grid_template_areas": null,
            "grid_template_columns": null,
            "grid_template_rows": null,
            "height": null,
            "justify_content": null,
            "justify_items": null,
            "left": null,
            "margin": null,
            "max_height": null,
            "max_width": null,
            "min_height": null,
            "min_width": null,
            "object_fit": null,
            "object_position": null,
            "order": null,
            "overflow": null,
            "overflow_x": null,
            "overflow_y": null,
            "padding": null,
            "right": null,
            "top": null,
            "visibility": null,
            "width": null
          }
        },
        "41780b6b27ba45c3809c3920bcc99c30": {
          "model_module": "@jupyter-widgets/controls",
          "model_name": "DescriptionStyleModel",
          "model_module_version": "1.5.0",
          "state": {
            "_model_module": "@jupyter-widgets/controls",
            "_model_module_version": "1.5.0",
            "_model_name": "DescriptionStyleModel",
            "_view_count": null,
            "_view_module": "@jupyter-widgets/base",
            "_view_module_version": "1.2.0",
            "_view_name": "StyleView",
            "description_width": ""
          }
        }
      }
    }
  },
  "nbformat": 4,
  "nbformat_minor": 5
}